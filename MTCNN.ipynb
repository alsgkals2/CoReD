{
 "cells": [
  {
   "cell_type": "markdown",
   "id": "fec4e0bf-545a-4282-8891-a94c1eb7e39b",
   "metadata": {},
   "source": [
    "# MTCNN"
   ]
  },
  {
   "cell_type": "code",
   "execution_count": 3,
   "id": "d01131b4-194c-446c-8b5b-56dcaa3d8a61",
   "metadata": {},
   "outputs": [],
   "source": [
    "from mtcnn import MTCNN\n",
    "import cv2\n",
    "import os"
   ]
  },
  {
   "cell_type": "code",
   "execution_count": 3,
   "id": "28c0b439-f23d-4ea6-aec4-d805bcf9cf40",
   "metadata": {},
   "outputs": [],
   "source": [
    "os.environ['CUDA_VISIBLE_DEVICES'] =str(0)"
   ]
  },
  {
   "cell_type": "code",
   "execution_count": 4,
   "id": "1635c405-db6f-4765-8230-f98cb2e78472",
   "metadata": {},
   "outputs": [],
   "source": [
    "PATH_FOLDER = '/home/mhkim/temp'\n",
    "walk_path = os.walk(PATH_FOLDER)\n",
    "imgs = []\n",
    "for a,b,c in walk_path:\n",
    "    for _c in c:\n",
    "        if '.png' in _c:\n",
    "            imgs.append(os.path.join(a,_c)) "
   ]
  },
  {
   "cell_type": "code",
   "execution_count": 13,
   "id": "13241114-042e-46f6-92ce-ef1e4c79faa7",
   "metadata": {},
   "outputs": [],
   "source": [
    "sorted(imgs)\n",
    "imgs = imgs[:len(imgs)//2]"
   ]
  },
  {
   "cell_type": "markdown",
   "id": "e8c445ca-3b85-49a8-b499-22cc69abe72a",
   "metadata": {},
   "source": [
    "# TEST"
   ]
  },
  {
   "cell_type": "markdown",
   "id": "c56d97a9-d893-4038-b916-ed4d40778d11",
   "metadata": {},
   "source": [
    "## MTCNN WITH FACE CROP"
   ]
  },
  {
   "cell_type": "code",
   "execution_count": 14,
   "id": "709ec185-40f8-4127-8d83-771f8e0890f1",
   "metadata": {},
   "outputs": [],
   "source": [
    "detector = MTCNN()"
   ]
  },
  {
   "cell_type": "code",
   "execution_count": null,
   "id": "5a1cfbd1-75a9-4c44-ab20-b27a12df4cec",
   "metadata": {},
   "outputs": [],
   "source": [
    "for item in imgs:\n",
    "    img = cv2.cvtColor(cv2.imread(item), cv2.COLOR_BGR2RGB)\n",
    "    \n",
    "    info = detector.detect_faces(img)\n",
    "    box = info[0]['box']\n",
    "    crop_img = img[box[1]:box[1]+box[3],box[0]:box[0]+box[2] ]#슬라이싱\n",
    "    crop_img = cv2.cvtColor(crop_img,cv2.COLOR_BGR2RGB)\n",
    "\n",
    "    SAVE_PATH = item.replace('temp','temp_crop')\n",
    "    os.makedirs(os.path.dirname(SAVE_PATH), exist_ok=True)\n",
    "    cv2.imwrite(SAVE_PATH, crop_img)\n"
   ]
  },
  {
   "cell_type": "code",
   "execution_count": null,
   "id": "3b6bee53-437b-455f-9377-c2219d3326ef",
   "metadata": {
    "tags": []
   },
   "outputs": [],
   "source": [
    "import matplotlib.pyplot as plt\n",
    "# plt.imshow(img)\n",
    "plt.imshow(crop_img)"
   ]
  }
 ],
 "metadata": {
  "kernelspec": {
   "display_name": "Python 3",
   "language": "python",
   "name": "python3"
  },
  "language_info": {
   "codemirror_mode": {
    "name": "ipython",
    "version": 3
   },
   "file_extension": ".py",
   "mimetype": "text/x-python",
   "name": "python",
   "nbconvert_exporter": "python",
   "pygments_lexer": "ipython3",
   "version": "3.8.5"
  },
  "widgets": {
   "application/vnd.jupyter.widget-state+json": {
    "state": {},
    "version_major": 2,
    "version_minor": 0
   }
  }
 },
 "nbformat": 4,
 "nbformat_minor": 5
}
